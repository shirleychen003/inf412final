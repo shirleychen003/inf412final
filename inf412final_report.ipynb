{
 "cells": [
  {
   "cell_type": "code",
   "execution_count": null,
   "id": "initial_id",
   "metadata": {
    "collapsed": true
   },
   "outputs": [],
   "source": "# Title: Analysis of Crime and Economic Status in Toronto"
  },
  {
   "metadata": {},
   "cell_type": "code",
   "outputs": [],
   "execution_count": null,
   "source": "# Motivation\n",
   "id": "8f285f8239b2ea38"
  },
  {
   "metadata": {},
   "cell_type": "code",
   "outputs": [],
   "execution_count": null,
   "source": "# Review of Similar Research",
   "id": "44f26949cf240335"
  },
  {
   "metadata": {},
   "cell_type": "code",
   "outputs": [],
   "execution_count": null,
   "source": "# Research Question",
   "id": "802a939f5f21ae36"
  },
  {
   "metadata": {},
   "cell_type": "code",
   "outputs": [],
   "execution_count": null,
   "source": "# Data",
   "id": "46a2389bfc1447fe"
  },
  {
   "metadata": {},
   "cell_type": "code",
   "outputs": [],
   "execution_count": null,
   "source": "# Methodology",
   "id": "3b18952a3f91257f"
  },
  {
   "metadata": {},
   "cell_type": "code",
   "outputs": [],
   "execution_count": null,
   "source": "# Analysis and Interpretation of Results",
   "id": "ea67d3a77e8feb1a"
  },
  {
   "metadata": {
    "ExecuteTime": {
     "end_time": "2025-03-29T21:34:11.551965Z",
     "start_time": "2025-03-29T21:34:11.549663Z"
    }
   },
   "cell_type": "code",
   "source": "# Discussion",
   "id": "de48484c228f59f9",
   "outputs": [],
   "execution_count": 1
  },
  {
   "metadata": {},
   "cell_type": "code",
   "outputs": [],
   "execution_count": null,
   "source": "# References",
   "id": "c974d07d0975bd52"
  }
 ],
 "metadata": {
  "kernelspec": {
   "display_name": "Python 3",
   "language": "python",
   "name": "python3"
  },
  "language_info": {
   "codemirror_mode": {
    "name": "ipython",
    "version": 2
   },
   "file_extension": ".py",
   "mimetype": "text/x-python",
   "name": "python",
   "nbconvert_exporter": "python",
   "pygments_lexer": "ipython2",
   "version": "2.7.6"
  }
 },
 "nbformat": 4,
 "nbformat_minor": 5
}
