{
 "cells": [
  {
   "cell_type": "markdown",
   "id": "c10267b0",
   "metadata": {},
   "source": [
    "# Poisson vs Linear Regression: Toronto Crime Data 2021\n",
    "---\n",
    "This notebook compares **Poisson regression** and **Linear regression** models using crime and income data from Toronto neighborhoods.\n",
    "\n",
    "We:\n",
    "- Merge crime and income datasets\n",
    "- Create total crime rate per 100,000 population\n",
    "- Fit Poisson regression and Linear regression models\n",
    "- Visualize model coefficients and predictions\n",
    "- Compare model fits visually and with interpretation\n"
   ]
  },
  {
   "cell_type": "code",
   "execution_count": null,
   "id": "b8ed6b8c",
   "metadata": {},
   "outputs": [],
   "source": [
    "import pandas as pd\n",
    "\n",
    "# Load datasets\n",
    "crime_df = pd.read_csv(\"cleaned_crime_data_2021.csv\")\n",
    "income_df = pd.read_csv(\"cleaned_neighbourhood_income_data_2021.csv\")\n",
    "\n",
    "# Merge on neighborhood ID\n",
    "merged_df = pd.merge(crime_df, income_df, left_on=\"HOOD_ID\", right_on=\"neighbourhood_id\", how=\"inner\")\n",
    "merged_df.dropna(inplace=True)\n",
    "\n",
    "# Create total crime rate per 100,000 population\n",
    "merged_df[\"TOTAL_CRIME_RATE\"] = (merged_df[\"TOTAL_CRIME_COUNT\"] / merged_df[\"total_population\"]) * 100000\n"
   ]
  },
  {
   "cell_type": "code",
   "execution_count": null,
   "id": "7285cffc",
   "metadata": {},
   "outputs": [],
   "source": [
    "import statsmodels.api as sm\n",
    "import statsmodels.formula.api as smf\n",
    "\n",
    "# Formulas\n",
    "formula_count = \"\"\"\n",
    "TOTAL_CRIME_COUNT ~ median_income + average_income + median_after_tax_income +\n",
    "average_after_tax_income + market_income_percent + employment_income_percent +\n",
    "government_support_percent + low_income_percent + percent_without_income +\n",
    "median_to_average_ratio + is_improvement_area\n",
    "\"\"\"\n",
    "\n",
    "formula_rate = \"\"\"\n",
    "TOTAL_CRIME_RATE ~ median_income + average_income + median_after_tax_income +\n",
    "average_after_tax_income + market_income_percent + employment_income_percent +\n",
    "government_support_percent + low_income_percent + percent_without_income +\n",
    "median_to_average_ratio + is_improvement_area\n",
    "\"\"\"\n",
    "\n",
    "# Fit Poisson models\n",
    "model_count = smf.glm(formula=formula_count, data=merged_df, family=sm.families.Poisson()).fit()\n",
    "model_rate = smf.glm(formula=formula_rate, data=merged_df, family=sm.families.Poisson()).fit()\n",
    "\n",
    "model_count.summary(), model_rate.summary()\n"
   ]
  },
  {
   "cell_type": "code",
   "execution_count": null,
   "id": "671d681a",
   "metadata": {},
   "outputs": [],
   "source": [
    "import matplotlib.pyplot as plt\n",
    "import seaborn as sns\n",
    "\n",
    "def extract_coefficients(model, label):\n",
    "    summary = model.summary2().tables[1]\n",
    "    summary = summary.reset_index().rename(columns={\"index\": \"Variable\"})\n",
    "    summary[\"Model\"] = label\n",
    "    return summary[[\"Variable\", \"Coef.\", \"[0.025\", \"0.975]\", \"Model\"]]\n",
    "\n",
    "coef_count = extract_coefficients(model_count, \"Crime Count\")\n",
    "coef_rate = extract_coefficients(model_rate, \"Crime Rate\")\n",
    "combined = pd.concat([coef_count, coef_rate])\n",
    "\n",
    "# Plot\n",
    "plt.figure(figsize=(12, 8))\n",
    "sns.set(style=\"whitegrid\")\n",
    "ax = sns.pointplot(data=combined, y=\"Variable\", x=\"Coef.\", hue=\"Model\", dodge=0.5, join=False, ci=None)\n",
    "for i, row in combined.iterrows():\n",
    "    plt.plot([row[\"[0.025\"], row[\"0.975]\"]], [i, i], color=\"black\", linewidth=1)\n",
    "plt.axvline(0, color='gray', linestyle='--')\n",
    "plt.title(\"Poisson Regression Coefficients with 95% CI\")\n",
    "plt.xlabel(\"Coefficient Estimate\")\n",
    "plt.ylabel(\"Predictor Variables\")\n",
    "plt.legend()\n",
    "plt.tight_layout()\n",
    "plt.gca().invert_yaxis()\n",
    "plt.show()\n"
   ]
  },
  {
   "cell_type": "code",
   "execution_count": null,
   "id": "cd674d1e",
   "metadata": {},
   "outputs": [],
   "source": [
    "# Linear regression\n",
    "predictors = [\n",
    "    'median_income', 'average_income', 'median_after_tax_income',\n",
    "    'average_after_tax_income', 'market_income_percent',\n",
    "    'employment_income_percent', 'government_support_percent',\n",
    "    'low_income_percent', 'percent_without_income',\n",
    "    'median_to_average_ratio', 'is_improvement_area'\n",
    "]\n",
    "X_lin = sm.add_constant(merged_df[predictors])\n",
    "y_count = merged_df['TOTAL_CRIME_COUNT']\n",
    "linear_model = sm.OLS(y_count, X_lin).fit()\n",
    "\n",
    "# Poisson predictions\n",
    "merged_df[\"predicted_count\"] = model_count.predict(merged_df)\n",
    "merged_df[\"predicted_rate\"] = model_rate.predict(merged_df)\n",
    "\n",
    "# Comparison plot (fit vs fit)\n",
    "fig, ax = plt.subplots(figsize=(8, 8))\n",
    "ax.scatter(linear_model.fittedvalues, merged_df['predicted_count'], s=20)\n",
    "ax.set_xlabel('Linear Regression Fit', fontsize=20)\n",
    "ax.set_ylabel('Poisson Regression Fit', fontsize=20)\n",
    "ax.axline([0, 0], slope=1, c='black', linewidth=3, linestyle='--')\n",
    "plt.tight_layout()\n",
    "plt.show()\n"
   ]
  },
  {
   "cell_type": "markdown",
   "id": "38578e3c",
   "metadata": {},
   "source": [
    "## 🧠 Model Fit Interpretation\n",
    "\n",
    "- **Points on the diagonal line**: Agreement between Poisson and Linear models.\n",
    "- **Points below the line**: Poisson predicts lower than Linear — especially for high crime neighborhoods.\n",
    "- **Poisson Regression** is preferred for count data:\n",
    "  - Handles skew and non-constant variance\n",
    "  - Uses a log link, preventing unrealistic predictions\n",
    "  - Deviance and Log-Likelihood indicate strong fit\n",
    "- In this case, **Poisson regression is the better model**.\n",
    "\n",
    "Further improvements: test for overdispersion or try a Negative Binomial model.\n"
   ]
  }
 ],
 "metadata": {
  "language_info": {
   "name": "python"
  }
 },
 "nbformat": 4,
 "nbformat_minor": 5
}
