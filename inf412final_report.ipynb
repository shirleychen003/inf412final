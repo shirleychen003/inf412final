{
 "cells": [
  {
   "cell_type": "code",
   "execution_count": null,
   "id": "initial_id",
   "metadata": {
    "collapsed": true
   },
   "outputs": [],
   "source": [
    "# Title: Analysis of Crime and Economic Status in Toronto"
   ]
  },
  {
   "cell_type": "code",
   "execution_count": null,
   "id": "8f285f8239b2ea38",
   "metadata": {},
   "outputs": [],
   "source": [
    "# Motivation\n"
   ]
  },
  {
   "cell_type": "code",
   "execution_count": null,
   "id": "44f26949cf240335",
   "metadata": {},
   "outputs": [],
   "source": [
    "# Review of Similar Research"
   ]
  },
  {
   "cell_type": "code",
   "execution_count": null,
   "id": "802a939f5f21ae36",
   "metadata": {},
   "outputs": [],
   "source": [
    "# Research Question"
   ]
  },
  {
   "cell_type": "markdown",
   "id": "35d3e6a3",
   "metadata": {},
   "source": [
    "# Data: Toronto Neighborhood Crime Analysis (2016-2021)\n",
    "\n",
    "## Data Sources\n",
    "\n",
    "This research utilizes multiple datasets to analyze the relationship between socioeconomic factors and crime rates across Toronto neighborhoods, with a particular focus on comparing patterns between 2016 and 2021."
   ]
  },
  {
   "cell_type": "code",
   "execution_count": null,
   "id": "2d14da13",
   "metadata": {},
   "outputs": [],
   "source": [
    "# Core datasets used in this analysis\n",
    "raw_data_sources = {\n",
    "    \"crime_data\": \"raw_data/neighbourhood-crime-rates - 4326.csv\",\n",
    "    \"neighborhood_profiles_2016\": \"raw_data/neighbourhood-profiles-2016-140-model.csv\",\n",
    "    \"neighborhood_profiles_2021\": \"raw_data/neighbourhood-profiles-2021-158-model.csv\"\n",
    "}"
   ]
  },
  {
   "cell_type": "markdown",
   "id": "a0ed88c3",
   "metadata": {},
   "source": [
    "The primary datasets include:\n",
    "\n",
    "**1. Toronto Neighborhood Crime Statistics**: Contains detailed crime counts and rates across various crime types (assault, auto theft, bike theft, break and enter, robbery, theft from motor vehicle, and theft over $5000)\n",
    "\n",
    "**2. Toronto Neighborhood Profiles (2016)**: Demographic and socioeconomic indicators from the 2016 census\n",
    "\n",
    "**3. Toronto Neighborhood Profiles (2021)**: Updated demographic and socioeconomic indicators from the 2021 census\n",
    "\n",
    "## Data Preparation\n",
    "\n",
    "The raw data required significant preprocessing to enable meaningful analysis. We developed dedicated cleaning scripts for each dataset to standardize neighborhood names, select relevant columns, and transform the data into a consistent format."
   ]
  },
  {
   "cell_type": "code",
   "execution_count": null,
   "id": "96b38903",
   "metadata": {},
   "outputs": [],
   "source": [
    "# Load and clean crime data for both years\n",
    "def clean_crime_data(crime_data_path, output_path):\n",
    "    # Read raw crime data\n",
    "    crime_data = pd.read_csv(crime_data_path)\n",
    "    \n",
    "    # Select relevant columns and filter by year\n",
    "    crime_cols = ['AREA_NAME', 'AREA_ID', 'ASSAULT', 'AUTOTHEFT', 'BIKETHEFT', \n",
    "                  'BREAKENTER', 'ROBBERY', 'THEFTFROMMV', 'THEFTOVER']\n",
    "    \n",
    "    # Clean neighborhood names for consistent joins\n",
    "    crime_data['AREA_NAME'] = crime_data['AREA_NAME'].apply(clean_name)\n",
    "    \n",
    "    # Calculate total crime counts and save\n",
    "    crime_data['TOTAL_CRIME_COUNT'] = crime_data[crime_cols[2:]].sum(axis=1)\n",
    "    crime_data.to_csv(output_path, index=False)\n",
    "    \n",
    "    return crime_data"
   ]
  },
  {
   "cell_type": "markdown",
   "id": "757569f1",
   "metadata": {},
   "source": [
    "The data cleaning process addressed several challenges:\n",
    "\n",
    "**1. Inconsistent neighborhood naming**: Names required standardization (e.g., \"St.\" vs \"St\", hyphenation differences)\n",
    "\n",
    "**2. Different neighborhood counts**: 2016 data contains 140 neighborhoods while 2021 data includes 158\n",
    "\n",
    "**3. Missing values**: Empty values were replaced with zeros where appropriate\n",
    "\n",
    "**4. Column selection**: Only relevant demographic and crime variables were retained\n",
    "\n",
    "After cleaning, we produced standardized datasets for both 2016 and 2021, enabling direct comparison.\n",
    "\n",
    "## Dataset Features\n",
    "\n",
    "The cleaned datasets contain the following key variables:"
   ]
  },
  {
   "cell_type": "code",
   "execution_count": null,
   "id": "0b12ce4d",
   "metadata": {},
   "outputs": [],
   "source": [
    "# Display key variables in our final datasets\n",
    "merged_2021.columns.to_list()"
   ]
  },
  {
   "cell_type": "markdown",
   "id": "6dba0bc2",
   "metadata": {},
   "source": [
    "### Crime Variables (2016 and 2021)\n",
    "\n",
    "-`ASSAULT_2016/2021`: Assault incidents count\n",
    "\n",
    "-`AUTOTHEFT_2016/2021`: Auto theft incidents count\n",
    "\n",
    "-`BIKETHEFT_2016/2021`: Bicycle theft incidents count\n",
    "\n",
    "-`BREAKENTER_2016/2021`: Break and enter incidents count\n",
    "\n",
    "-`ROBBERY_2016/2021`: Robbery incidents count\n",
    "\n",
    "-`THEFTFROMMV_2016/2021`: Theft from motor vehicle incidents count\n",
    "\n",
    "-`THEFTOVER_2016/2021`: Theft over $5000 incidents count\n",
    "\n",
    "-`TOTAL_CRIME_COUNT`: Sum of all crime counts\n",
    "\n",
    "### Socioeconomic Variables (2016 and 2021)\n",
    "\n",
    "- `total_population`: Total neighborhood population\n",
    "\n",
    "- `low_income_percent`: Percentage of population considered low income\n",
    "\n",
    "- `is_improvement_area`: Flag indicating if neighborhood is designated as an improvement area\n",
    "\n",
    "## Exploratory Data Analysis\n",
    "\n",
    "Initial exploration revealed interesting patterns in the Toronto neighborhood crime data:"
   ]
  },
  {
   "cell_type": "code",
   "execution_count": null,
   "id": "7dd4387e",
   "metadata": {},
   "outputs": [],
   "source": [
    "# Basic descriptive statistics for 2016 vs 2021\n",
    "print(f\"Number of matched neighborhoods (2016): {len(merged_2016)}\")\n",
    "print(f\"Number of matched neighborhoods (2021): {len(merged_2021)}\")\n",
    "print(f\"Number of neighborhoods present in both years: {len(common_neighborhoods)}\")\n",
    "\n",
    "# Statistical summaries\n",
    "merged_2016[crime_cols_2016].describe()\n",
    "merged_2021[crime_cols_2021].describe()"
   ]
  },
  {
   "cell_type": "markdown",
   "id": "070df0df",
   "metadata": {},
   "source": [
    "Our preliminary analysis showed:\n",
    "\n",
    "1. We successfully matched 124 neighborhoods in the 2016 dataset and 154 neighborhoods in the 2021 dataset\n",
    "\n",
    "2. 120 neighborhoods were present in both datasets, enabling direct comparison\n",
    "\n",
    "3. Crime patterns show significant variation across neighborhoods, with some areas experiencing substantially higher rates than others\n",
    "\n",
    "## Data Integration\n",
    "\n",
    "To analyze relationships between socioeconomic factors and crime, we merged the neighborhood profile and crime datasets:"
   ]
  },
  {
   "cell_type": "code",
   "execution_count": null,
   "id": "9e1d8590",
   "metadata": {},
   "outputs": [],
   "source": [
    "# Merge datasets for analysis\n",
    "merged_2016 = pd.merge(\n",
    "    nbh_data_2016, \n",
    "    crime_data_2016,\n",
    "    left_on='neighbourhood_name',\n",
    "    right_on='AREA_NAME',\n",
    "    how='inner'\n",
    ")\n",
    "\n",
    "merged_2021 = pd.merge(\n",
    "    nbh_data_2021, \n",
    "    crime_data_2021,\n",
    "    left_on='neighbourhood_name',\n",
    "    right_on='AREA_NAME',\n",
    "    how='inner'\n",
    ")"
   ]
  },
  {
   "cell_type": "markdown",
   "id": "38a23ea1",
   "metadata": {},
   "source": [
    "This integration allowed us to create three primary analytical approaches:\n",
    "\n",
    "**1. Box plot comparisons**: Visualizing crime distribution differences between 2016 and 2021\n",
    "\n",
    "**2. Correlation matrices**: Examining how relationships between crime types changed over time\n",
    "\n",
    "**3. Linear regression analysis**: Assessing how socioeconomic factors predict crime rates"
   ]
  },
  {
   "cell_type": "markdown",
   "id": "4b81c16c",
   "metadata": {},
   "source": [
    "## Data Limitations\n",
    "\n",
    "Several limitations should be acknowledged:\n",
    "\n",
    "**1. Neighborhood boundary changes**: Some neighborhood boundaries may have changed between 2016 and 2021\n",
    "\n",
    "**2. COVID-19 impact**: The 2021 data likely reflects pandemic-related changes in crime patterns\n",
    "\n",
    "**3. Reporting variations**: Changes in crime reporting practices could influence apparent trends\n",
    "\n",
    "**4. Missing neighborhoods**: Not all neighborhoods have complete data for both time periods\n",
    "\n",
    "Despite these limitations, the dataset provides valuable insights into the changing landscape of crime in Toronto and its relationship with socioeconomic factors."
   ]
  },
  {
   "cell_type": "code",
   "execution_count": null,
   "id": "3b18952a3f91257f",
   "metadata": {},
   "outputs": [],
   "source": [
    "# Methodology"
   ]
  },
  {
   "cell_type": "code",
   "execution_count": null,
   "id": "ea67d3a77e8feb1a",
   "metadata": {},
   "outputs": [],
   "source": [
    "# Analysis and Interpretation of Results"
   ]
  },
  {
   "cell_type": "code",
   "execution_count": 1,
   "id": "de48484c228f59f9",
   "metadata": {
    "ExecuteTime": {
     "end_time": "2025-03-29T21:34:11.551965Z",
     "start_time": "2025-03-29T21:34:11.549663Z"
    }
   },
   "outputs": [],
   "source": [
    "# Discussion"
   ]
  },
  {
   "cell_type": "code",
   "execution_count": null,
   "id": "c974d07d0975bd52",
   "metadata": {},
   "outputs": [],
   "source": [
    "# References"
   ]
  }
 ],
 "metadata": {
  "kernelspec": {
   "display_name": "venv",
   "language": "python",
   "name": "python3"
  },
  "language_info": {
   "codemirror_mode": {
    "name": "ipython",
    "version": 2
   },
   "file_extension": ".py",
   "mimetype": "text/x-python",
   "name": "python",
   "nbconvert_exporter": "python",
   "pygments_lexer": "ipython2",
   "version": "3.13.2"
  }
 },
 "nbformat": 4,
 "nbformat_minor": 5
}
